{
 "cells": [
  {
   "cell_type": "markdown",
   "metadata": {},
   "source": [
    "# Product recommender system"
   ]
  },
  {
   "cell_type": "code",
   "execution_count": 110,
   "metadata": {},
   "outputs": [],
   "source": [
    "#import packages \n",
    "import sklearn\n",
    "import pandas as pd\n",
    "import numpy as np\n",
    "import os"
   ]
  },
  {
   "cell_type": "markdown",
   "metadata": {},
   "source": [
    "## Get the data"
   ]
  },
  {
   "cell_type": "code",
   "execution_count": 111,
   "metadata": {},
   "outputs": [],
   "source": [
    "from sklearn.datasets import load_wine\n",
    "data1 = load_wine(as_frame = True)"
   ]
  },
  {
   "cell_type": "code",
   "execution_count": 112,
   "metadata": {},
   "outputs": [],
   "source": [
    "#Load dataset\n",
    "DIRECTORY_WHERE_THIS_FILE_IS = os.path.dirname(os.path.abspath(\"Product_recommender.md\"))\n",
    "DATA_PATH = os.path.join(DIRECTORY_WHERE_THIS_FILE_IS, \"data/kaggle_wine2.csv\")\n",
    "df1 = pd.read_csv(DATA_PATH)"
   ]
  },
  {
   "cell_type": "code",
   "execution_count": 113,
   "metadata": {},
   "outputs": [
    {
     "data": {
      "text/plain": [
       "0    Aromas include tropical fruit, broom, brimston...\n",
       "1    This is ripe and fruity, a wine that is smooth...\n",
       "Name: description, dtype: object"
      ]
     },
     "execution_count": 113,
     "metadata": {},
     "output_type": "execute_result"
    }
   ],
   "source": [
    "df1['description'].head(2)"
   ]
  },
  {
   "cell_type": "code",
   "execution_count": 114,
   "metadata": {},
   "outputs": [],
   "source": [
    "#extract the wine year\n",
    "import re\n",
    "df1['year'] = 0\n",
    "count = 0\n",
    "for el in df1['title']: \n",
    "    res = [int(i) for i in el.split() if i.isdigit()]\n",
    "    if len(res) == 1:\n",
    "        df1.loc[count,'year'] = res[0]\n",
    "    elif len(res) == 2 and res[0] > 1900:\n",
    "        df1.loc[count,'year'] = res[0]\n",
    "    elif len(res) == 2 and res[1] > 1900:\n",
    "         df1.loc[count,'year'] = res[1]\n",
    "    count += 1"
   ]
  },
  {
   "cell_type": "code",
   "execution_count": 115,
   "metadata": {},
   "outputs": [],
   "source": [
    "#onehotencode the country qnd yeqr\n",
    "categorical_columns = ['country', 'variety']\n",
    "for column in categorical_columns:\n",
    "    tempdf = pd.get_dummies(df1[column], prefix=column)\n",
    "    df1 = pd.merge(\n",
    "        left=df1,\n",
    "        right=tempdf,\n",
    "        left_index=True,\n",
    "        right_index=True,\n",
    "    )\n",
    "    df1 = df1.drop(columns=column)"
   ]
  },
  {
   "cell_type": "code",
   "execution_count": 116,
   "metadata": {},
   "outputs": [],
   "source": [
    "#drop the other non numericql collumns\n",
    "df2 = df1.drop(['Unnamed: 0','designation','description','province','region_1','region_2','taster_name','taster_twitter_handle','winery'], axis = 1)"
   ]
  },
  {
   "cell_type": "code",
   "execution_count": null,
   "metadata": {},
   "outputs": [],
   "source": [
    "#Take the most represented collumns\n",
    "for col in df2.columns:\n",
    "    if col not in ('points', 'price','title'):\n",
    "        if sum(df2[col]) < 5000 :\n",
    "            df2 = df2.drop(columns= col)"
   ]
  },
  {
   "cell_type": "code",
   "execution_count": null,
   "metadata": {},
   "outputs": [],
   "source": [
    "df2.reset_index(inplace = True)\n",
    "df_title = df2.loc[:,['index','title']]\n",
    "df2 = df2.drop('title', axis = 1)\n",
    "print(df_title.head(5))\n",
    "df2.head(5)"
   ]
  },
  {
   "cell_type": "code",
   "execution_count": null,
   "metadata": {},
   "outputs": [],
   "source": [
    "#null\n",
    "#drop for now\n",
    "df2 = df2.dropna()"
   ]
  },
  {
   "cell_type": "code",
   "execution_count": null,
   "metadata": {},
   "outputs": [],
   "source": [
    "from sklearn.model_selection import train_test_split\n",
    "y = df2[\"points\"]\n",
    "X = df2.loc[:,df2.columns != \"points\"]"
   ]
  },
  {
   "cell_type": "code",
   "execution_count": 66,
   "metadata": {},
   "outputs": [
    {
     "name": "stdout",
     "output_type": "stream",
     "text": [
      "correlated features:  0\n",
      "set()\n"
     ]
    }
   ],
   "source": [
    "#scale\n",
    "from sklearn.preprocessing import StandardScaler\n",
    "scaler = StandardScaler().fit(X)\n",
    "X = scaler.transform(X)\n",
    "X = pd.DataFrame(X)\n",
    "\n",
    "#remove correlated features\n",
    "def get_correlation(data, threshold):\n",
    "    corr_col = set()\n",
    "    corrmat = data.corr()\n",
    "    for i in range(len(corrmat.columns)):\n",
    "        for j in range(i):\n",
    "            if abs(corrmat.iloc[i, j]) > threshold:\n",
    "                colname = corrmat.columns[i]\n",
    "                corr_col.add(colname)\n",
    "    return corr_col\n",
    "\n",
    "corr_features = get_correlation(X, 0.70)\n",
    "print('correlated features: ', len(set(corr_features)) )\n",
    "print(corr_features)\n",
    "\n",
    "#X = X.drop(labels=corr_features, axis = 1)\n",
    "\n"
   ]
  },
  {
   "cell_type": "code",
   "execution_count": 67,
   "metadata": {},
   "outputs": [],
   "source": [
    "#train test\n",
    "X_train, X_test, y_train, y_test = train_test_split(\n",
    "   X, y, test_size=0.30, random_state=42)"
   ]
  },
  {
   "cell_type": "markdown",
   "metadata": {},
   "source": [
    "### Baseline"
   ]
  },
  {
   "cell_type": "code",
   "execution_count": 75,
   "metadata": {},
   "outputs": [],
   "source": [
    "average = sum(y_train) / len(y_train)"
   ]
  },
  {
   "cell_type": "code",
   "execution_count": 81,
   "metadata": {},
   "outputs": [],
   "source": [
    "arr_avg = []\n",
    "for el in y_test:\n",
    "    arr_avg.append(average)"
   ]
  },
  {
   "cell_type": "code",
   "execution_count": 82,
   "metadata": {},
   "outputs": [
    {
     "name": "stdout",
     "output_type": "stream",
     "text": [
      "Mean absolute error: 2.4913350809477026\n"
     ]
    }
   ],
   "source": [
    "print('Mean absolute error: {}'.format(mean_absolute_error(y_test,arr_avg)))"
   ]
  },
  {
   "cell_type": "markdown",
   "metadata": {},
   "source": [
    "### Random forest regressor "
   ]
  },
  {
   "cell_type": "code",
   "execution_count": 69,
   "metadata": {},
   "outputs": [],
   "source": [
    "from sklearn.model_selection import GridSearchCV\n",
    "from sklearn.ensemble import RandomForestRegressor \n",
    "from sklearn.metrics import mean_squared_error\n",
    "from sklearn.metrics import mean_absolute_error"
   ]
  },
  {
   "cell_type": "code",
   "execution_count": 70,
   "metadata": {},
   "outputs": [
    {
     "name": "stdout",
     "output_type": "stream",
     "text": [
      "Fine Tuned Model: RandomForestRegressor(max_depth=40, min_samples_leaf=3, min_samples_split=10)\n"
     ]
    }
   ],
   "source": [
    "grid = {\n",
    "    \"max_depth\": [35,40], \n",
    "    \"min_samples_leaf\": [2,3],\n",
    "    \"min_samples_split\": [4,5,8,10]\n",
    "}\n",
    "\n",
    "\"Sklearn\"\n",
    "\"-----------------------\"\n",
    "grid_search = GridSearchCV(RandomForestRegressor(), param_grid = grid)\n",
    "grid_search.fit(X_train, y_train)\n",
    "optimal_model = grid_search.best_estimator_\n",
    "\"-----------------------\"\n",
    "\n",
    "print(\"Fine Tuned Model: {0}\".format(optimal_model))"
   ]
  },
  {
   "cell_type": "code",
   "execution_count": 71,
   "metadata": {},
   "outputs": [],
   "source": [
    "model = RandomForestRegressor(max_depth = optimal_model.max_depth, min_samples_leaf = optimal_model.min_samples_leaf, min_samples_split = optimal_model.min_samples_split)\n",
    "model.fit(X_train,y_train)\n",
    "adjusted_pred = model.predict(X_test)"
   ]
  },
  {
   "cell_type": "code",
   "execution_count": 74,
   "metadata": {},
   "outputs": [
    {
     "name": "stdout",
     "output_type": "stream",
     "text": [
      "Mean absolute error: 1.8147790713983896\n"
     ]
    }
   ],
   "source": [
    "print('Mean absolute error: {}'.format(mean_absolute_error(y_test,adjusted_pred)))"
   ]
  },
  {
   "cell_type": "code",
   "execution_count": null,
   "metadata": {},
   "outputs": [],
   "source": []
  }
 ],
 "metadata": {
  "jupytext": {
   "formats": "ipynb,md"
  },
  "kernelspec": {
   "display_name": "Python 3",
   "language": "python",
   "name": "python3"
  },
  "language_info": {
   "codemirror_mode": {
    "name": "ipython",
    "version": 3
   },
   "file_extension": ".py",
   "mimetype": "text/x-python",
   "name": "python",
   "nbconvert_exporter": "python",
   "pygments_lexer": "ipython3",
   "version": "3.7.6"
  }
 },
 "nbformat": 4,
 "nbformat_minor": 4
}
